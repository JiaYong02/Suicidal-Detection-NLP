{
 "cells": [
  {
   "cell_type": "code",
   "execution_count": 2,
   "metadata": {},
   "outputs": [
    {
     "name": "stdout",
     "output_type": "stream",
     "text": [
      "                                                     text        class\n",
      "0       ['wife', 'threatening', 'suicide', 'recently',...      suicide\n",
      "1       ['weird', 'get', 'affected', 'compliment', 'co...  non-suicide\n",
      "2       ['finally', 'almost', 'never', 'hear', 'bad', ...  non-suicide\n",
      "3                 ['need', 'help', 'help', 'cry', 'hard']      suicide\n",
      "4       ['lost', 'hello', 'name', 'struggling', 'year'...      suicide\n",
      "...                                                   ...          ...\n",
      "230342  ['like', 'rock', 'going', 'get', 'anything', '...  non-suicide\n",
      "230343  ['tell', 'many', 'friend', 'lonely', 'everythi...  non-suicide\n",
      "230344  ['pee', 'probably', 'taste', 'like', 'salty', ...  non-suicide\n",
      "230345  ['usual', 'stuff', 'find', 'posting', 'sympath...      suicide\n",
      "230346  ['still', 'beaten', 'first', 'hollow', 'knight...  non-suicide\n",
      "\n",
      "[230347 rows x 2 columns]\n"
     ]
    }
   ],
   "source": [
    "import pandas as pd\n",
    "data = pd.read_csv(\"cleaned_Suicide_Detection_with_Token.csv\")\n",
    "print (data)"
   ]
  },
  {
   "cell_type": "code",
   "execution_count": 3,
   "metadata": {},
   "outputs": [
    {
     "name": "stdout",
     "output_type": "stream",
     "text": [
      "Accuracy: 0.8912775452793165\n",
      "              precision    recall  f1-score   support\n",
      "\n",
      " non-suicide       0.94      0.84      0.88     28775\n",
      "     suicide       0.85      0.95      0.90     28812\n",
      "\n",
      "    accuracy                           0.89     57587\n",
      "   macro avg       0.90      0.89      0.89     57587\n",
      "weighted avg       0.90      0.89      0.89     57587\n",
      "\n"
     ]
    }
   ],
   "source": [
    "import pandas as pd\n",
    "from sklearn.feature_extraction.text import CountVectorizer\n",
    "from sklearn.naive_bayes import MultinomialNB\n",
    "from sklearn.pipeline import make_pipeline\n",
    "from sklearn.model_selection import train_test_split\n",
    "from sklearn import metrics\n",
    "\n",
    "# Load the dataset\n",
    "data = pd.read_csv(\"cleaned_Suicide_Detection_with_Token.csv\")\n",
    "\n",
    "# Split the dataset into features (text) and labels\n",
    "X = data['text']\n",
    "y = data['class']\n",
    "\n",
    "# Split the dataset into training and testing sets\n",
    "X_train, X_test, y_train, y_test = train_test_split(X, y, test_size=0.25, random_state=42)\n",
    "\n",
    "# Create a pipeline with CountVectorizer for feature extraction and Multinomial Naive Bayes classifier\n",
    "model = make_pipeline(CountVectorizer(), MultinomialNB())\n",
    "\n",
    "# Train the model\n",
    "model.fit(X_train, y_train)\n",
    "\n",
    "# Predict on the test set\n",
    "predicted = model.predict(X_test)\n",
    "\n",
    "# Calculate accuracy\n",
    "accuracy = metrics.accuracy_score(y_test, predicted)\n",
    "print(\"Accuracy:\", accuracy)\n",
    "\n",
    "# Classification report\n",
    "print(metrics.classification_report(y_test, predicted))\n"
   ]
  }
 ],
 "metadata": {
  "kernelspec": {
   "display_name": "base",
   "language": "python",
   "name": "python3"
  },
  "language_info": {
   "codemirror_mode": {
    "name": "ipython",
    "version": 3
   },
   "file_extension": ".py",
   "mimetype": "text/x-python",
   "name": "python",
   "nbconvert_exporter": "python",
   "pygments_lexer": "ipython3",
   "version": "3.11.5"
  }
 },
 "nbformat": 4,
 "nbformat_minor": 2
}
