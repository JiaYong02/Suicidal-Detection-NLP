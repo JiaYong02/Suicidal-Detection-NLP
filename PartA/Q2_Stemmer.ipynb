{
 "cells": [
  {
   "cell_type": "code",
   "execution_count": 1,
   "metadata": {},
   "outputs": [
    {
     "name": "stdout",
     "output_type": "stream",
     "text": [
      "Original Words: ['Textual', 'information', 'in', 'the', 'world', 'can', 'be', 'broadly', 'categorized', 'into', 'two', 'main', 'types', 'facts', 'and', 'opinions', 'Facts', 'are', 'objective', 'expressions', 'about', 'entities', 'events', 'and', 'their', 'properties', 'Opinions', 'are', 'usually', 'subjective', 'expressions', 'that', 'describe', 'peoples', 'sentiments', 'appraisals', 'or', 'feelings', 'toward', 'entities', 'events', 'and', 'their', 'properties']\n",
      "\n",
      "Regular Expression Stemming: ['Textual', 'information', 'in', 'the', 'world', 'can', 'be', 'broad', 'categoriz', 'into', 'two', 'main', 'typ', 'fact', 'and', 'opinion', 'Fact', 'are', 'object', 'expression', 'about', 'entit', 'event', 'and', 'their', 'propert', 'Opinion', 'are', 'usual', 'subject', 'expression', 'that', 'describe', 'peopl', 'sentiment', 'appraisal', 'or', 'feeling', 'toward', 'entit', 'event', 'and', 'their', 'propert']\n",
      "\n",
      "Porter Stemmer: ['textual', 'inform', 'in', 'the', 'world', 'can', 'be', 'broadli', 'categor', 'into', 'two', 'main', 'type', 'fact', 'and', 'opinion', 'fact', 'are', 'object', 'express', 'about', 'entiti', 'event', 'and', 'their', 'properti', 'opinion', 'are', 'usual', 'subject', 'express', 'that', 'describ', 'peopl', 'sentiment', 'apprais', 'or', 'feel', 'toward', 'entiti', 'event', 'and', 'their', 'properti']\n",
      "\n",
      "Lancaster Stemmer: ['text', 'inform', 'in', 'the', 'world', 'can', 'be', 'broad', 'categ', 'into', 'two', 'main', 'typ', 'fact', 'and', 'opin', 'fact', 'ar', 'object', 'express', 'about', 'ent', 'ev', 'and', 'their', 'property', 'opin', 'ar', 'us', 'subject', 'express', 'that', 'describ', 'peopl', 'senty', 'appra', 'or', 'feel', 'toward', 'ent', 'ev', 'and', 'their', 'property']\n"
     ]
    }
   ],
   "source": [
    "import re\n",
    "import nltk\n",
    "from nltk.stem import PorterStemmer, LancasterStemmer\n",
    "\n",
    "data_1 = \"Textual information in the world can be broadly categorized into two main types: facts and opinions. Facts are objective expressions about entities, events, and their properties. Opinions are usually subjective expressions that describe peoples sentiments, appraisals, or feelings toward entities, events, and their properties.\"\n",
    "\n",
    "# Tokenize the text into words\n",
    "words = re.findall(r'\\b\\w+\\b', data_1)\n",
    "\n",
    "# Regular Expression Stemming\n",
    "regex_stemmed_words = [re.sub(r'^(.*?)(ing|ly|ed|ious|ies|ive|es|s|ment)?$', r'\\1', word) for word in words]\n",
    "\n",
    "# Porter Stemmer\n",
    "porter_stemmer = PorterStemmer()\n",
    "porter_stemmed_words = [porter_stemmer.stem(word) for word in words]\n",
    "\n",
    "# Lancaster Stemmer\n",
    "lancaster_stemmer = LancasterStemmer()\n",
    "lancaster_stemmed_words = [lancaster_stemmer.stem(word) for word in words]\n",
    "\n",
    "# Print the results\n",
    "print(\"Original Words:\", words)\n",
    "print(\"\\nRegular Expression Stemming:\", regex_stemmed_words)\n",
    "print(\"\\nPorter Stemmer:\", porter_stemmed_words)\n",
    "print(\"\\nLancaster Stemmer:\", lancaster_stemmed_words)"
   ]
  }
 ],
 "metadata": {
  "kernelspec": {
   "display_name": "Python 3",
   "language": "python",
   "name": "python3"
  },
  "language_info": {
   "codemirror_mode": {
    "name": "ipython",
    "version": 3
   },
   "file_extension": ".py",
   "mimetype": "text/x-python",
   "name": "python",
   "nbconvert_exporter": "python",
   "pygments_lexer": "ipython3",
   "version": "3.11.5"
  }
 },
 "nbformat": 4,
 "nbformat_minor": 2
}
