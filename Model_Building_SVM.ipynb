{
  "nbformat": 4,
  "nbformat_minor": 0,
  "metadata": {
    "colab": {
      "provenance": [],
      "gpuType": "T4",
      "authorship_tag": "ABX9TyOisnIADrDqhB0e3hLBiuWH",
      "include_colab_link": true
    },
    "kernelspec": {
      "name": "python3",
      "display_name": "Python 3"
    },
    "language_info": {
      "name": "python"
    },
    "accelerator": "GPU"
  },
  "cells": [
    {
      "cell_type": "markdown",
      "metadata": {
        "id": "view-in-github",
        "colab_type": "text"
      },
      "source": [
        "<a href=\"https://colab.research.google.com/github/JiaYong02/Suicidal-Detection-NLP/blob/main/Model_Building_SVM.ipynb\" target=\"_parent\"><img src=\"https://colab.research.google.com/assets/colab-badge.svg\" alt=\"Open In Colab\"/></a>"
      ]
    },
    {
      "cell_type": "markdown",
      "source": [
        "# Model Building"
      ],
      "metadata": {
        "id": "YUdktb4ihGkb"
      }
    },
    {
      "cell_type": "markdown",
      "source": [
        "## Read and tokenize"
      ],
      "metadata": {
        "id": "plJlzPwRhOLC"
      }
    },
    {
      "cell_type": "code",
      "source": [
        "# import\n",
        "import pandas as pd\n",
        "import nltk\n",
        "from nltk.tokenize import word_tokenize\n",
        "from sklearn.preprocessing import LabelEncoder\n",
        "from sklearn.feature_extraction.text import TfidfVectorizer\n",
        "import matplotlib.pyplot as plt\n",
        "import seaborn as sns\n",
        "nltk.download('punkt')"
      ],
      "metadata": {
        "colab": {
          "base_uri": "https://localhost:8080/"
        },
        "id": "Wx27dvMNhNsK",
        "outputId": "718877ad-1eab-48c0-a787-e6cfe223f9f1"
      },
      "execution_count": 2,
      "outputs": [
        {
          "output_type": "stream",
          "name": "stderr",
          "text": [
            "[nltk_data] Downloading package punkt to /root/nltk_data...\n",
            "[nltk_data]   Package punkt is already up-to-date!\n"
          ]
        },
        {
          "output_type": "execute_result",
          "data": {
            "text/plain": [
              "True"
            ]
          },
          "metadata": {},
          "execution_count": 2
        }
      ]
    },
    {
      "cell_type": "code",
      "source": [
        "from google.colab import drive\n",
        "drive.mount('/content/drive')"
      ],
      "metadata": {
        "colab": {
          "base_uri": "https://localhost:8080/"
        },
        "id": "ajESoFQk8UUe",
        "outputId": "f48d28ff-d6a8-44ce-d614-c03e71049f0b"
      },
      "execution_count": 1,
      "outputs": [
        {
          "output_type": "stream",
          "name": "stdout",
          "text": [
            "Drive already mounted at /content/drive; to attempt to forcibly remount, call drive.mount(\"/content/drive\", force_remount=True).\n"
          ]
        }
      ]
    },
    {
      "cell_type": "code",
      "source": [
        "df = pd.read_csv('/content/drive/MyDrive/Text Sentiment Lab/Dataset/cleaned_SuicideAndDepression_detection_with_Token.csv')"
      ],
      "metadata": {
        "id": "w2RMhZ0DhXtk"
      },
      "execution_count": 3,
      "outputs": []
    },
    {
      "cell_type": "code",
      "source": [
        "df.shape"
      ],
      "metadata": {
        "colab": {
          "base_uri": "https://localhost:8080/"
        },
        "id": "MBWTvC_WIOHO",
        "outputId": "da117ef8-a154-43c4-cdea-6c9e91b001cb"
      },
      "execution_count": 4,
      "outputs": [
        {
          "output_type": "execute_result",
          "data": {
            "text/plain": [
              "(347261, 2)"
            ]
          },
          "metadata": {},
          "execution_count": 4
        }
      ]
    },
    {
      "cell_type": "code",
      "source": [
        "depression_data = df[df['class'] == 'depression'].head(20000)\n",
        "suicide_data = df[df['class'] == 'suicide'].head(20000)\n",
        "normal_data = df[df['class'] == 'normal'].head(20000)\n",
        "new_df = pd.concat([depression_data, suicide_data, normal_data])"
      ],
      "metadata": {
        "id": "egaqwsFmHddi"
      },
      "execution_count": 5,
      "outputs": []
    },
    {
      "cell_type": "code",
      "source": [
        "new_df.shape"
      ],
      "metadata": {
        "colab": {
          "base_uri": "https://localhost:8080/"
        },
        "id": "PJ6thYMpHdSK",
        "outputId": "7523c5b1-3502-424b-8ba7-9186a51cf075"
      },
      "execution_count": 6,
      "outputs": [
        {
          "output_type": "execute_result",
          "data": {
            "text/plain": [
              "(60000, 2)"
            ]
          },
          "metadata": {},
          "execution_count": 6
        }
      ]
    },
    {
      "cell_type": "code",
      "source": [
        "new_df.head()"
      ],
      "metadata": {
        "colab": {
          "base_uri": "https://localhost:8080/",
          "height": 206
        },
        "id": "prsT4NoPH3V8",
        "outputId": "120405fa-7609-451b-e10f-b587884a68a6"
      },
      "execution_count": 7,
      "outputs": [
        {
          "output_type": "execute_result",
          "data": {
            "text/plain": [
              "                                                text       class\n",
              "0  ['life', 'actually', 'work', 'non', 'depressed...  depression\n",
              "1  ['found', 'friend', 'body', 'almost', 'nine', ...  depression\n",
              "5  ['never', 'anyone', 'life', 'problem', 'much',...  depression\n",
              "6  ['somebody', 'help', 'terrible', 'episode', 't...  depression\n",
              "7  ['can', 'not', 'hidden', 'away', 'summer', 'ro...  depression"
            ],
            "text/html": [
              "\n",
              "  <div id=\"df-9d780946-78b7-43dc-80d6-b1f1c95bcf29\" class=\"colab-df-container\">\n",
              "    <div>\n",
              "<style scoped>\n",
              "    .dataframe tbody tr th:only-of-type {\n",
              "        vertical-align: middle;\n",
              "    }\n",
              "\n",
              "    .dataframe tbody tr th {\n",
              "        vertical-align: top;\n",
              "    }\n",
              "\n",
              "    .dataframe thead th {\n",
              "        text-align: right;\n",
              "    }\n",
              "</style>\n",
              "<table border=\"1\" class=\"dataframe\">\n",
              "  <thead>\n",
              "    <tr style=\"text-align: right;\">\n",
              "      <th></th>\n",
              "      <th>text</th>\n",
              "      <th>class</th>\n",
              "    </tr>\n",
              "  </thead>\n",
              "  <tbody>\n",
              "    <tr>\n",
              "      <th>0</th>\n",
              "      <td>['life', 'actually', 'work', 'non', 'depressed...</td>\n",
              "      <td>depression</td>\n",
              "    </tr>\n",
              "    <tr>\n",
              "      <th>1</th>\n",
              "      <td>['found', 'friend', 'body', 'almost', 'nine', ...</td>\n",
              "      <td>depression</td>\n",
              "    </tr>\n",
              "    <tr>\n",
              "      <th>5</th>\n",
              "      <td>['never', 'anyone', 'life', 'problem', 'much',...</td>\n",
              "      <td>depression</td>\n",
              "    </tr>\n",
              "    <tr>\n",
              "      <th>6</th>\n",
              "      <td>['somebody', 'help', 'terrible', 'episode', 't...</td>\n",
              "      <td>depression</td>\n",
              "    </tr>\n",
              "    <tr>\n",
              "      <th>7</th>\n",
              "      <td>['can', 'not', 'hidden', 'away', 'summer', 'ro...</td>\n",
              "      <td>depression</td>\n",
              "    </tr>\n",
              "  </tbody>\n",
              "</table>\n",
              "</div>\n",
              "    <div class=\"colab-df-buttons\">\n",
              "\n",
              "  <div class=\"colab-df-container\">\n",
              "    <button class=\"colab-df-convert\" onclick=\"convertToInteractive('df-9d780946-78b7-43dc-80d6-b1f1c95bcf29')\"\n",
              "            title=\"Convert this dataframe to an interactive table.\"\n",
              "            style=\"display:none;\">\n",
              "\n",
              "  <svg xmlns=\"http://www.w3.org/2000/svg\" height=\"24px\" viewBox=\"0 -960 960 960\">\n",
              "    <path d=\"M120-120v-720h720v720H120Zm60-500h600v-160H180v160Zm220 220h160v-160H400v160Zm0 220h160v-160H400v160ZM180-400h160v-160H180v160Zm440 0h160v-160H620v160ZM180-180h160v-160H180v160Zm440 0h160v-160H620v160Z\"/>\n",
              "  </svg>\n",
              "    </button>\n",
              "\n",
              "  <style>\n",
              "    .colab-df-container {\n",
              "      display:flex;\n",
              "      gap: 12px;\n",
              "    }\n",
              "\n",
              "    .colab-df-convert {\n",
              "      background-color: #E8F0FE;\n",
              "      border: none;\n",
              "      border-radius: 50%;\n",
              "      cursor: pointer;\n",
              "      display: none;\n",
              "      fill: #1967D2;\n",
              "      height: 32px;\n",
              "      padding: 0 0 0 0;\n",
              "      width: 32px;\n",
              "    }\n",
              "\n",
              "    .colab-df-convert:hover {\n",
              "      background-color: #E2EBFA;\n",
              "      box-shadow: 0px 1px 2px rgba(60, 64, 67, 0.3), 0px 1px 3px 1px rgba(60, 64, 67, 0.15);\n",
              "      fill: #174EA6;\n",
              "    }\n",
              "\n",
              "    .colab-df-buttons div {\n",
              "      margin-bottom: 4px;\n",
              "    }\n",
              "\n",
              "    [theme=dark] .colab-df-convert {\n",
              "      background-color: #3B4455;\n",
              "      fill: #D2E3FC;\n",
              "    }\n",
              "\n",
              "    [theme=dark] .colab-df-convert:hover {\n",
              "      background-color: #434B5C;\n",
              "      box-shadow: 0px 1px 3px 1px rgba(0, 0, 0, 0.15);\n",
              "      filter: drop-shadow(0px 1px 2px rgba(0, 0, 0, 0.3));\n",
              "      fill: #FFFFFF;\n",
              "    }\n",
              "  </style>\n",
              "\n",
              "    <script>\n",
              "      const buttonEl =\n",
              "        document.querySelector('#df-9d780946-78b7-43dc-80d6-b1f1c95bcf29 button.colab-df-convert');\n",
              "      buttonEl.style.display =\n",
              "        google.colab.kernel.accessAllowed ? 'block' : 'none';\n",
              "\n",
              "      async function convertToInteractive(key) {\n",
              "        const element = document.querySelector('#df-9d780946-78b7-43dc-80d6-b1f1c95bcf29');\n",
              "        const dataTable =\n",
              "          await google.colab.kernel.invokeFunction('convertToInteractive',\n",
              "                                                    [key], {});\n",
              "        if (!dataTable) return;\n",
              "\n",
              "        const docLinkHtml = 'Like what you see? Visit the ' +\n",
              "          '<a target=\"_blank\" href=https://colab.research.google.com/notebooks/data_table.ipynb>data table notebook</a>'\n",
              "          + ' to learn more about interactive tables.';\n",
              "        element.innerHTML = '';\n",
              "        dataTable['output_type'] = 'display_data';\n",
              "        await google.colab.output.renderOutput(dataTable, element);\n",
              "        const docLink = document.createElement('div');\n",
              "        docLink.innerHTML = docLinkHtml;\n",
              "        element.appendChild(docLink);\n",
              "      }\n",
              "    </script>\n",
              "  </div>\n",
              "\n",
              "\n",
              "<div id=\"df-fbd52caf-ea8d-447f-870a-958e35149276\">\n",
              "  <button class=\"colab-df-quickchart\" onclick=\"quickchart('df-fbd52caf-ea8d-447f-870a-958e35149276')\"\n",
              "            title=\"Suggest charts\"\n",
              "            style=\"display:none;\">\n",
              "\n",
              "<svg xmlns=\"http://www.w3.org/2000/svg\" height=\"24px\"viewBox=\"0 0 24 24\"\n",
              "     width=\"24px\">\n",
              "    <g>\n",
              "        <path d=\"M19 3H5c-1.1 0-2 .9-2 2v14c0 1.1.9 2 2 2h14c1.1 0 2-.9 2-2V5c0-1.1-.9-2-2-2zM9 17H7v-7h2v7zm4 0h-2V7h2v10zm4 0h-2v-4h2v4z\"/>\n",
              "    </g>\n",
              "</svg>\n",
              "  </button>\n",
              "\n",
              "<style>\n",
              "  .colab-df-quickchart {\n",
              "      --bg-color: #E8F0FE;\n",
              "      --fill-color: #1967D2;\n",
              "      --hover-bg-color: #E2EBFA;\n",
              "      --hover-fill-color: #174EA6;\n",
              "      --disabled-fill-color: #AAA;\n",
              "      --disabled-bg-color: #DDD;\n",
              "  }\n",
              "\n",
              "  [theme=dark] .colab-df-quickchart {\n",
              "      --bg-color: #3B4455;\n",
              "      --fill-color: #D2E3FC;\n",
              "      --hover-bg-color: #434B5C;\n",
              "      --hover-fill-color: #FFFFFF;\n",
              "      --disabled-bg-color: #3B4455;\n",
              "      --disabled-fill-color: #666;\n",
              "  }\n",
              "\n",
              "  .colab-df-quickchart {\n",
              "    background-color: var(--bg-color);\n",
              "    border: none;\n",
              "    border-radius: 50%;\n",
              "    cursor: pointer;\n",
              "    display: none;\n",
              "    fill: var(--fill-color);\n",
              "    height: 32px;\n",
              "    padding: 0;\n",
              "    width: 32px;\n",
              "  }\n",
              "\n",
              "  .colab-df-quickchart:hover {\n",
              "    background-color: var(--hover-bg-color);\n",
              "    box-shadow: 0 1px 2px rgba(60, 64, 67, 0.3), 0 1px 3px 1px rgba(60, 64, 67, 0.15);\n",
              "    fill: var(--button-hover-fill-color);\n",
              "  }\n",
              "\n",
              "  .colab-df-quickchart-complete:disabled,\n",
              "  .colab-df-quickchart-complete:disabled:hover {\n",
              "    background-color: var(--disabled-bg-color);\n",
              "    fill: var(--disabled-fill-color);\n",
              "    box-shadow: none;\n",
              "  }\n",
              "\n",
              "  .colab-df-spinner {\n",
              "    border: 2px solid var(--fill-color);\n",
              "    border-color: transparent;\n",
              "    border-bottom-color: var(--fill-color);\n",
              "    animation:\n",
              "      spin 1s steps(1) infinite;\n",
              "  }\n",
              "\n",
              "  @keyframes spin {\n",
              "    0% {\n",
              "      border-color: transparent;\n",
              "      border-bottom-color: var(--fill-color);\n",
              "      border-left-color: var(--fill-color);\n",
              "    }\n",
              "    20% {\n",
              "      border-color: transparent;\n",
              "      border-left-color: var(--fill-color);\n",
              "      border-top-color: var(--fill-color);\n",
              "    }\n",
              "    30% {\n",
              "      border-color: transparent;\n",
              "      border-left-color: var(--fill-color);\n",
              "      border-top-color: var(--fill-color);\n",
              "      border-right-color: var(--fill-color);\n",
              "    }\n",
              "    40% {\n",
              "      border-color: transparent;\n",
              "      border-right-color: var(--fill-color);\n",
              "      border-top-color: var(--fill-color);\n",
              "    }\n",
              "    60% {\n",
              "      border-color: transparent;\n",
              "      border-right-color: var(--fill-color);\n",
              "    }\n",
              "    80% {\n",
              "      border-color: transparent;\n",
              "      border-right-color: var(--fill-color);\n",
              "      border-bottom-color: var(--fill-color);\n",
              "    }\n",
              "    90% {\n",
              "      border-color: transparent;\n",
              "      border-bottom-color: var(--fill-color);\n",
              "    }\n",
              "  }\n",
              "</style>\n",
              "\n",
              "  <script>\n",
              "    async function quickchart(key) {\n",
              "      const quickchartButtonEl =\n",
              "        document.querySelector('#' + key + ' button');\n",
              "      quickchartButtonEl.disabled = true;  // To prevent multiple clicks.\n",
              "      quickchartButtonEl.classList.add('colab-df-spinner');\n",
              "      try {\n",
              "        const charts = await google.colab.kernel.invokeFunction(\n",
              "            'suggestCharts', [key], {});\n",
              "      } catch (error) {\n",
              "        console.error('Error during call to suggestCharts:', error);\n",
              "      }\n",
              "      quickchartButtonEl.classList.remove('colab-df-spinner');\n",
              "      quickchartButtonEl.classList.add('colab-df-quickchart-complete');\n",
              "    }\n",
              "    (() => {\n",
              "      let quickchartButtonEl =\n",
              "        document.querySelector('#df-fbd52caf-ea8d-447f-870a-958e35149276 button');\n",
              "      quickchartButtonEl.style.display =\n",
              "        google.colab.kernel.accessAllowed ? 'block' : 'none';\n",
              "    })();\n",
              "  </script>\n",
              "</div>\n",
              "\n",
              "    </div>\n",
              "  </div>\n"
            ],
            "application/vnd.google.colaboratory.intrinsic+json": {
              "type": "dataframe",
              "variable_name": "new_df",
              "summary": "{\n  \"name\": \"new_df\",\n  \"rows\": 60000,\n  \"fields\": [\n    {\n      \"column\": \"text\",\n      \"properties\": {\n        \"dtype\": \"string\",\n        \"num_unique_values\": 59913,\n        \"samples\": [\n          \"['feel', 'like', 'plan', 'actually', 'working', 'finally', 'took', 'long', 'get', 'point', 'think', 'finally', 'ready', 'going', 'take', 'still', 'hopefully', 'gone', 'go', 'well']\",\n          \"['realize', 'far', 'gone', 'look', 'back', 'watching', 'build', 'courage', 'sobering', 'process', 'reaching', 'back', 'touch', 'help', 'person', 'reach', 'walk', 'away', 'right', 'time', 'down', 'getting', 'extreme', 'draw', 'closer', 'decision', 'pushing', 'away', 'people', 'protect', 'choice', 'subconsciously', 'always', 'knew', 'going', 'happen', 'really', 'peaceful', 'see', 'clearly', 'everything', 'hazy', 'real', 'terrible', 'part', 'found', 'way', 'escape', 'torment', 'people', 'thought', 'abandoned', 'hurt', 'year', 'really', 'hurt', 'abandoned', 'way', 'spouse', 'way', 'family', 'late', 'everything', 'decayed', 'away', 'left', 'nothing', 'save', 'finally', 'figured']\",\n          \"['bought', 'stuff', 'make', 'suicide', 'attempt', 'feel', 'desire', 'since', 'bought', 'something', 'help', 'commit', 'suicide', 'ever', 'since', 'bought', 'thought', 'try', 'crossed', 'mind', 'seriously', 'like', 'knowing', 'keep', 'thought', 'bay', 'similar', 'drug', 'sometimes', 'drug', 'even', 'time', 'could', 'use', 'craving', 'bad', 'bad', 'want', 'keep', 'stuff', 'keep', 'suicidal', 'thought', 'away', 'touched', 'since', 'want', 'get', 'rid', 'experience', 'taught', 'help']\"\n        ],\n        \"semantic_type\": \"\",\n        \"description\": \"\"\n      }\n    },\n    {\n      \"column\": \"class\",\n      \"properties\": {\n        \"dtype\": \"category\",\n        \"num_unique_values\": 3,\n        \"samples\": [\n          \"depression\",\n          \"suicide\",\n          \"normal\"\n        ],\n        \"semantic_type\": \"\",\n        \"description\": \"\"\n      }\n    }\n  ]\n}"
            }
          },
          "metadata": {},
          "execution_count": 7
        }
      ]
    },
    {
      "cell_type": "code",
      "source": [
        "depression_data.shape"
      ],
      "metadata": {
        "id": "q3vvD3wGH89H",
        "outputId": "6293643d-f168-44c6-cb1e-966eae667481",
        "colab": {
          "base_uri": "https://localhost:8080/"
        }
      },
      "execution_count": 8,
      "outputs": [
        {
          "output_type": "execute_result",
          "data": {
            "text/plain": [
              "(20000, 2)"
            ]
          },
          "metadata": {},
          "execution_count": 8
        }
      ]
    },
    {
      "cell_type": "markdown",
      "source": [
        "## Prepare Training and Testing dataset\n"
      ],
      "metadata": {
        "id": "oUMfygCPiti3"
      }
    },
    {
      "cell_type": "markdown",
      "source": [
        "### Split dataset"
      ],
      "metadata": {
        "id": "t5Jk6neZntoP"
      }
    },
    {
      "cell_type": "code",
      "source": [
        "from sklearn.model_selection import train_test_split\n",
        "X = new_df['text']\n",
        "y = new_df['class']\n",
        "\n",
        "X_train, X_test, y_train, y_test = train_test_split(X, y, test_size=0.2, random_state=100)\n"
      ],
      "metadata": {
        "id": "0tEKVaVgh2oh"
      },
      "execution_count": 9,
      "outputs": []
    },
    {
      "cell_type": "markdown",
      "source": [
        "### Encoding Label"
      ],
      "metadata": {
        "id": "YTXF5gc-izNI"
      }
    },
    {
      "cell_type": "code",
      "source": [
        "Encoder = LabelEncoder()\n",
        "y_train = Encoder.fit_transform(y_train)\n",
        "y_test = Encoder.fit_transform(y_test)"
      ],
      "metadata": {
        "id": "JhXr3_2ri1E0"
      },
      "execution_count": 10,
      "outputs": []
    },
    {
      "cell_type": "code",
      "source": [
        "# Get the mapping of original labels to encoded values\n",
        "label_mapping = dict(zip(Encoder.classes_, Encoder.transform(Encoder.classes_)))\n",
        "\n",
        "# Print the mapping\n",
        "print(\"Label Mapping:\")\n",
        "for label, encoded_value in label_mapping.items():\n",
        "    print(f\"{label} : {encoded_value}\")"
      ],
      "metadata": {
        "colab": {
          "base_uri": "https://localhost:8080/"
        },
        "id": "dJLmmHOzbbb-",
        "outputId": "cba29ab0-8c72-44cf-dcc4-38d4cb1cdc9f"
      },
      "execution_count": 11,
      "outputs": [
        {
          "output_type": "stream",
          "name": "stdout",
          "text": [
            "Label Mapping:\n",
            "depression : 0\n",
            "normal : 1\n",
            "suicide : 2\n"
          ]
        }
      ]
    },
    {
      "cell_type": "markdown",
      "source": [
        "### Word Vectorization"
      ],
      "metadata": {
        "id": "e6kh6pZ8mYQB"
      }
    },
    {
      "cell_type": "code",
      "source": [
        "# Tfidf_vect = TfidfVectorizer(max_features=5000)\n",
        "Tfidf_vect = TfidfVectorizer(ngram_range=(1,2))\n",
        "Tfidf_vect.fit(new_df['text'])\n",
        "\n",
        "X_tfidf_train = Tfidf_vect.transform(X_train)\n",
        "X_tfidf_test = Tfidf_vect.transform(X_test)\n"
      ],
      "metadata": {
        "id": "wcdrZuO8jEiC"
      },
      "execution_count": 12,
      "outputs": []
    },
    {
      "cell_type": "code",
      "source": [
        "print(Tfidf_vect.vocabulary_)"
      ],
      "metadata": {
        "colab": {
          "base_uri": "https://localhost:8080/"
        },
        "id": "n37GgplMC1Wj",
        "outputId": "49941849-abae-4e14-9ee7-f19c0a105a40"
      },
      "execution_count": 13,
      "outputs": [
        {
          "output_type": "stream",
          "name": "stderr",
          "text": [
            "IOPub data rate exceeded.\n",
            "The notebook server will temporarily stop sending output\n",
            "to the client in order to avoid crashing it.\n",
            "To change this limit, set the config variable\n",
            "`--NotebookApp.iopub_data_rate_limit`.\n",
            "\n",
            "Current values:\n",
            "NotebookApp.iopub_data_rate_limit=1000000.0 (bytes/sec)\n",
            "NotebookApp.rate_limit_window=3.0 (secs)\n",
            "\n"
          ]
        }
      ]
    },
    {
      "cell_type": "code",
      "source": [
        "print(X_tfidf_train)"
      ],
      "metadata": {
        "colab": {
          "base_uri": "https://localhost:8080/"
        },
        "id": "Nm9lY35nvlfV",
        "outputId": "2574bff6-bea2-43f8-9611-62f3de10564e"
      },
      "execution_count": 14,
      "outputs": [
        {
          "output_type": "stream",
          "name": "stdout",
          "text": [
            "  (0, 1253045)\t0.09319334009419085\n",
            "  (0, 1251908)\t0.04011066669122432\n",
            "  (0, 1248492)\t0.10101904867227803\n",
            "  (0, 1247798)\t0.10783914315052984\n",
            "  (0, 1247306)\t0.06702564601407657\n",
            "  (0, 1192177)\t0.11376625790835802\n",
            "  (0, 1191852)\t0.04264240454820569\n",
            "  (0, 1181185)\t0.13121808279847427\n",
            "  (0, 1181100)\t0.07705355042991754\n",
            "  (0, 1163980)\t0.12651346714443804\n",
            "  (0, 1163725)\t0.05590615352071292\n",
            "  (0, 1159132)\t0.06787045815517166\n",
            "  (0, 1158487)\t0.038273801372319914\n",
            "  (0, 1132862)\t0.07132421903841475\n",
            "  (0, 1132424)\t0.02473557330358571\n",
            "  (0, 1123761)\t0.0917539559864423\n",
            "  (0, 1123170)\t0.038503340319069296\n",
            "  (0, 1120007)\t0.09617206301271095\n",
            "  (0, 1118551)\t0.02761206216457836\n",
            "  (0, 1118480)\t0.08119983797015669\n",
            "  (0, 1117215)\t0.18773886962131572\n",
            "  (0, 1115698)\t0.08009309719929276\n",
            "  (0, 1095474)\t0.08333090176632812\n",
            "  (0, 1094938)\t0.03365295302185794\n",
            "  (0, 1092065)\t0.11376625790835802\n",
            "  :\t:\n",
            "  (47999, 507350)\t0.11903543234176271\n",
            "  (47999, 500667)\t0.13842387197461165\n",
            "  (47999, 499927)\t0.05297119831297692\n",
            "  (47999, 492287)\t0.14357139602626512\n",
            "  (47999, 492280)\t0.12447659743415336\n",
            "  (47999, 469710)\t0.12313900813831045\n",
            "  (47999, 468605)\t0.02938086953823416\n",
            "  (47999, 388714)\t0.14357139602626512\n",
            "  (47999, 388092)\t0.05151298714638734\n",
            "  (47999, 335720)\t0.12597189504865552\n",
            "  (47999, 335707)\t0.037311663294944286\n",
            "  (47999, 332959)\t0.09524445905739388\n",
            "  (47999, 332646)\t0.061402653129932094\n",
            "  (47999, 304264)\t0.14357139602626512\n",
            "  (47999, 303990)\t0.06707087992259222\n",
            "  (47999, 171901)\t0.13477164553746032\n",
            "  (47999, 171873)\t0.10462137058749583\n",
            "  (47999, 167664)\t0.13193875862711524\n",
            "  (47999, 167524)\t0.06672304018051921\n",
            "  (47999, 142158)\t0.11567684694534855\n",
            "  (47999, 141785)\t0.060276773428729266\n",
            "  (47999, 107914)\t0.14357139602626512\n",
            "  (47999, 107341)\t0.05132530158501271\n",
            "  (47999, 11134)\t0.13193875862711524\n",
            "  (47999, 11018)\t0.071524740618102\n"
          ]
        }
      ]
    },
    {
      "cell_type": "markdown",
      "source": [
        "## Support Vector Machine"
      ],
      "metadata": {
        "id": "2UgXlsVMhJie"
      }
    },
    {
      "cell_type": "code",
      "source": [
        "from sklearn.svm import SVC\n",
        "\n",
        "svc = SVC(random_state = 100)\n",
        "\n",
        "svc.fit(X_tfidf_train, y_train)\n",
        "\n",
        "prediction_svc = svc.predict(X_tfidf_test)\n",
        "\n",
        "svc_train_score = svc.score(X_tfidf_train, y_train)\n",
        "svc_test_score  = svc.score(X_tfidf_test, y_test)\n",
        "\n",
        "print(\"SVM Model:\")\n",
        "print (\"Training Score: {}\\nTest Score: {}\" .format(svc_train_score, svc_test_score))"
      ],
      "metadata": {
        "id": "HbYhOcnphJKu"
      },
      "execution_count": null,
      "outputs": []
    },
    {
      "cell_type": "code",
      "source": [
        "from sklearn.metrics import confusion_matrix\n",
        "\n",
        "plt.title('confusion_matrix of SVC')\n",
        "sns.heatmap(confusion_matrix(y_test,prediction_svc),annot=True,fmt=\"d\")\n",
        "plt.show()"
      ],
      "metadata": {
        "id": "8aqPERX2amq1"
      },
      "execution_count": null,
      "outputs": []
    },
    {
      "cell_type": "code",
      "source": [
        "from sklearn.metrics import classification_report\n",
        "print(classification_report(y_test,prediction_svc))\n"
      ],
      "metadata": {
        "id": "1l5m___da7mQ"
      },
      "execution_count": null,
      "outputs": []
    },
    {
      "cell_type": "code",
      "source": [
        "# Save model\n",
        "import joblib\n",
        "joblib.dump(svc, 'svm_model2.pkl')"
      ],
      "metadata": {
        "id": "CZJL0Umy1RB8"
      },
      "execution_count": null,
      "outputs": []
    },
    {
      "cell_type": "markdown",
      "source": [
        "## Random Forest"
      ],
      "metadata": {
        "id": "cU-LXYksw53D"
      }
    },
    {
      "cell_type": "code",
      "source": [
        "from sklearn.ensemble import RandomForestClassifier\n",
        "\n",
        "rf = RandomForestClassifier(random_state = 100)\n",
        "\n",
        "rf.fit(X_tfidf_train, y_train)\n",
        "\n",
        "prediction_rf = rf.predict(X_tfidf_test)\n",
        "\n",
        "rf_train_score = rf.score(X_tfidf_train, y_train)\n",
        "rf_test_score  = rf.score(prediction_rf, y_test)\n",
        "\n",
        "print(\"Random Forest Model:\")\n",
        "print (\"Training Score: {}\\nTest Score: {}\" .format(rf_train_score, rf_test_score))"
      ],
      "metadata": {
        "id": "1VBS_6unxTLW"
      },
      "execution_count": null,
      "outputs": []
    },
    {
      "cell_type": "code",
      "source": [
        "print(hi)"
      ],
      "metadata": {
        "id": "JdGQ1zYQ1XjG"
      },
      "execution_count": null,
      "outputs": []
    }
  ]
}